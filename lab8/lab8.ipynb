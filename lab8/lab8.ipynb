{
 "cells": [
  {
   "cell_type": "markdown",
   "metadata": {},
   "source": [
    "# Lab 8\n",
    "\n",
    "## Background\n",
    "\n",
    "Genome sequencing is a very useful technique in biology, but a long genome has to be split into small segments for the sequencer to read. In the algorithm, short reads are firstly compack into \"contigs\", and then concatenate into a whole one.\n",
    "\n",
    "## Locating the data\n",
    "\n",
    "The data can be found in `/data/lab8`. The data set includes 3 parts: `illumina_reads_R1.fastaq` and `illumina_reads_R2.fastaq` are short paired-end reads, and `pacbio_reads.fastq`. It is expected that illumina short sequences have **smaller error rate** but PacBio has **higher**.\n",
    "\n",
    "`screen` is a useful command when you are working on remote. The break of ssh connection will cause any process in that session to be killed. `nohup` will also do the work, but screen is better because it saves the whole session and it would be very comvenient if you can restore that.\n",
    "\n",
    "To start screen, just type `screen`. If you want to leave, hit `ctrl + A` then hit `D` for dettach. If you want to restore session, first use `screen -ls` to list all sessions in the background, and then use `screen -r SESSION_NUMBER` to restore that.\n",
    "\n",
    "In the screen session, type the command:\n",
    "\n",
    "```\n",
    "spades -t 1 -1 /data/lab8/illumina_reads_R1.fastq -2 /data/lab8/illumina_reads_R2.fastq --pacbio /data/lab8/pacbio_reads.fastq -o ./chromosome.output\n",
    "```\n",
    "I also used `time` to record the time for running. Here is time time spent on assembly:"
   ]
  },
  {
   "cell_type": "code",
   "execution_count": 3,
   "metadata": {},
   "outputs": [
    {
     "name": "stdout",
     "output_type": "stream",
     "text": [
      "\n",
      "\n",
      "real\t956m7.781s\n",
      "\n",
      "user\t939m30.203s\n",
      "\n",
      "sys\t12m24.153s\n",
      "\n"
     ]
    }
   ],
   "source": [
    "rec_file = open('chromosome.total_time', 'r')\n",
    "for line in rec_file:\n",
    "    print(line)"
   ]
  },
  {
   "cell_type": "markdown",
   "metadata": {},
   "source": [
    "It took around 16 hours to run.\n",
    "\n",
    "## Generate assembly statistics\n",
    "\n",
    "After the assembly, the file `conrigs.fasta` and `scaffolds.fasta` are present in the output folder. Contigs are contiguous sequences that are assembled from the reads. Scaffolds are sets of contigs connected together in order.\n",
    "\n",
    "N50 is a statstics defined as if you are summing up the length of contigs in a ordered set of all contigs from the longest to the shortest. When you sum a particular contig, the sum of length exeeds 50% of the total length of all contigs. Then the length of this contig is N50."
   ]
  },
  {
   "cell_type": "code",
   "execution_count": 10,
   "metadata": {},
   "outputs": [
    {
     "name": "stdout",
     "output_type": "stream",
     "text": [
      "stats for chromosome.output/contigs.fasta\n",
      "sum = 6678635, n = 176, ave = 37946.79, largest = 414008\n",
      "N50 = 234690, n = 11\n"
     ]
    }
   ],
   "source": [
    "import subprocess\n",
    "\n",
    "proc = subprocess.run(['assembly-stats', 'chromosome.output/contigs.fasta'],\\\n",
    "                     input=None, stdout=subprocess.PIPE, stderr=subprocess.PIPE)\n",
    "for line in proc.stdout.decode().split('\\n')[:3]: \n",
    "    print(line)"
   ]
  },
  {
   "cell_type": "code",
   "execution_count": 11,
   "metadata": {},
   "outputs": [
    {
     "name": "stdout",
     "output_type": "stream",
     "text": [
      "stats for chromosome.output/scaffolds.fasta\n",
      "sum = 6678655, n = 174, ave = 38383.07, largest = 414008\n",
      "N50 = 234690, n = 11\n"
     ]
    }
   ],
   "source": [
    "import subprocess\n",
    "\n",
    "proc = subprocess.run(['assembly-stats', 'chromosome.output/scaffolds.fasta'],\\\n",
    "                     input=None, stdout=subprocess.PIPE, stderr=subprocess.PIPE)\n",
    "for line in proc.stdout.decode().split('\\n')[:3]: \n",
    "    print(line)"
   ]
  },
  {
   "cell_type": "code",
   "execution_count": 25,
   "metadata": {},
   "outputs": [
    {
     "data": {
      "image/png": "[encoded data removed]",
      "text/plain": [
       "<Figure size 432x288 with 1 Axes>"
      ]
     },
     "metadata": {
      "needs_background": "light"
     },
     "output_type": "display_data"
    }
   ],
   "source": [
    "%matplotlib inline\n",
    "from matplotlib import pyplot as plt\n",
    "import re\n",
    "\n",
    "coverage_list = []\n",
    "contig_file = open('chromosome.output/contigs.fasta')\n",
    "for line in contig_file.readlines() :\n",
    "    if line[0] == '>' :\n",
    "        coverage = float(re.findall(r\"(?<=_cov_)[0-9.]+\", line)[0])\n",
    "        coverage_list.append(coverage)\n",
    "_ = plt.hist(coverage_list)"
   ]
  },
  {
   "cell_type": "code",
   "execution_count": 27,
   "metadata": {},
   "outputs": [
    {
     "data": {
      "image/png": "[encoded data removed]",
      "text/plain": [
       "<Figure size 432x288 with 1 Axes>"
      ]
     },
     "metadata": {
      "needs_background": "light"
     },
     "output_type": "display_data"
    }
   ],
   "source": [
    "filtered_list = []\n",
    "for coverage in coverage_list:\n",
    "    if coverage < 100 :\n",
    "        filtered_list.append(coverage)\n",
    "_ = plt.hist(filtered_list)"
   ]
  },
  {
   "cell_type": "markdown",
   "metadata": {},
   "source": [
    "The first graph shows the histograph of all contigs. To show more detail in short contigs region, I have filtered out all contigs that are longger than 100.\n",
    "\n",
    "This shows neither a uniform distribution nor a Gaussian distribution. It looks more like a geometry distribution. It is also not a multimodal one and only has 1 peak.Coverage of a segment is associated with its length: longer segments also have higher coverage. If the segments have the length twice of average, then it could have twice as high coverage. Also, The segment could repeat twice in the genome.\n",
    "\n",
    "## Identify the taxon\n",
    "\n",
    "To identify your genome, you must\n",
    "\n",
    "1. scan over the entire genome to locate copies of the 16S ribosomal RNA gene\n",
    "2. extract the 16S rRNA genes from your assembly\n",
    "3. compare these genes to a database of known 16S rRNA genes.\n",
    "\n",
    "We choose the 16S rRNA because it is conserved throughout all bacteria, so it can serve as a taxon marker. The first step is achieved by using the `rna_hmm3.py` programme. Run the command as followed:\n",
    "\n",
    "```sh\n",
    "rna_hmm3.py -i chromosome.output/contigs.fasta -o rrna.gff\n",
    "```\n",
    "\n",
    "The programme uses a Hidden Markov Model to predict rRNA position. Then use `bedtools getfasta` to extract nucleic acid sequences of 16S rRNA from contigs.\n",
    "Run the following command:\n",
    "\n",
    "\n",
    "```sh\n",
    "bedtools getfasta -fi chromosome.output/contigs.fasta -bed rrna.gff > rrna.fasta\n",
    "```\n",
    "\n",
    "After getting the 16S rRNA sequence, upload the sequence to [Ribosomal Database Project's SeqMatch tool](http://rdp.cme.msu.edu/seqmatch/seqmatch_intro.jsp) to identify the taxon this genome belongs to. The result is pasted below:\n",
    "\n",
    "```\n",
    "rootrank\tRoot\tdomain\tBacteria\tphylum\t\"Proteobacteria\"\tclass\tGammaproteobacteria\torder\tPseudomonadales\tfamily\tPseudomonadaceae\tgenus\tPseudomonas\n",
    "```\n",
    "\n",
    "So basically, to genus level, this genome belongs to a _Pseudomonas_.If one looks carefully into the textfile generated by RDP seqmatch, he will see lots of matchings each stands for the guess of a species from a piece of the rRNA. We only focus on the overall result here.\n",
    "\n",
    "## Genome annotation\n",
    "\n",
    "RAST (Rapid Annotation using Subsystem Technology) and BASys (Bacterial Annotation System) are two online annotation services. Annotation programs rely on the taxon of the genome to give a guess. Register RAST and upload the contig FASTA file to both sited and wait in patience.\n",
    "\n",
    "After about a day's wait, I got the results of from RAST. RAST offered me genbank file with all features, which I can open with vim and search the features very quick locally, or I can use the `SEED` browser to find the _subsystem_ and features I need.\n",
    "\n",
    "Just for an overview, I pasted a screenshot of __subsystem statistics__ here.\n",
    "\n",
    "![subsystem statistics](./pseudomonas_annotation_seed.png)\n",
    "\n",
    "## Research and write-up\n",
    "\n",
    "In demonstrating understanding the microbe with its feature annotated genome, I have picked some of the topics listed in the lab requirement, as well as some of my own. The discussion is as followed:\n",
    "\n",
    "1. What environment do relatives of your bacterium live in? Is there evidence of adaptation to the environment in the genome?\n",
    "\n",
    "    Going the wikipedia of pseudomonas, I picked up some of the features related to their habitats. _Pseudomonas_ covered very wide nitches, but one thing in common is they are all aerobic bacteria, not very interestingly. It is expected to find at least __catalase__ in our genome, which metabolizes the toxic hydrogen peroxide in cells.\n",
    "\n",
    "    Not suprisingly, I found catalase in the genome along with a bunch of other protein used to protect the bacteria from reactive oxygen species:\n",
    "\n",
    "\n",
    "Name | Function | Reaction\n",
    "--- | --- | ---\n",
    "sodA\t|Manganese superoxide dismutase (EC 1.15.1.1)\t|R00275\n",
    "sodB\t|Superoxide dismutase [Fe] (EC 1.15.1.1)\t|R00275\n",
    "sodC\t|Superoxide dismutase [Cu-Zn] precursor (EC 1.15.1.1)\t|-\n",
    "HPII\t|Catalase (EC 1.11.1.6)\t|R00009\n",
    "HPI\t|Peroxidase (EC 1.11.1.7)\t|-\n",
    "CCP\t|Cytochrome c551 peroxidase (EC 1.11.1.5)\t|R00017\n",
    "    \n",
    "2. Some _Pseudomonas_ is virulent and can also cause human diseases. What evidence can be found in this genome to prove the strain is virulent, if any.\n",
    "\n",
    "    It is interesting to notice that some _Pseudomonas_ are **virulent** to animals and humans. According to review papers, **Pyoverdine** is a small molecule that is shown to play a role in _Pseudomonas_ virulence. Also, **Alkaline protease** secrected by _Pseudomonas_ is clear to play a role in corneal infections. I have tried to find associated genes in the genome and here is what I got:\n",
    "    \n",
    "Name and Function | Cordinates\n",
    "--- | ---\n",
    "Pyoverdine chromophore precursor synthetase PvdL @ Siderophore biosynthesis non-ribosomal peptide synthetase modules| 84936..97919\n",
    "Pyoverdine biosynthesis related protein PvdP | 199458..201083\n",
    "Pyoverdine sidechain non-ribosomal peptide synthetase PvdI @ Siderophore biosynthesis non-ribosomal peptide synthetase modules | 276080..283909\n",
    "\n",
    "And also:\n",
    "\n",
    "Name and Function | Cordinates\n",
    "--- | ---\n",
    "Alkaline proteinase inhibitor precursor | 44601..45023\n",
    "Alkaline induced inner membrane protein Alx | 213380..214351\n",
    "Phosphodiesterase/alkaline phosphatase D | 142005..143546\n",
    "\n",
    "Which proves __pyoverdine biosynthesis__ genes and __alkaline proteinase__ genes are present in this bacteria. It is quite possible that it is a virulent strain as well.\n",
    "\n",
    "> E. Kipnis, T. Sawa, and J. Wiener-Kronish. \"Targeting mechanisms of Pseudomonasaeruginosa, pathogenesis.\" Médecine et Maladies Infectieuses 36.2(2006):78-91.\n",
    "\n",
    "3. Based on its genome, is your bacterium auxotrophic for any amino acids? Are its closest relatives also auxotrophic for these?\n",
    "\n",
    "    In order to examine what amino acid this bacteria synthesis, I have took a screenshot of all genes associated with amino acid synthesis:\n",
    "\n",
    "    ![pseudomonas aa synthesis](./pseudomonas_aa_auxotrophic.png)\n",
    "    \n",
    "    There is at least one gene related with every class of AA biosynthesis gene. I would suggest this _Pseudomonas_ undergoes no AA auxotrophy for now, but the conclusion does rely on further examination on each AA biosynthesis related gene.\n",
    "    \n",
    "4. CRISPR-Cas9 is so hot right now. Does your genome have a CRISPR system? Can you determine where the spacer sequences originated from?\n",
    "\n",
    "    Unfortunately, no CRISPR related genes are found in this genome. Consulting Wikipedia, CRISPR related genes exist in approximately 50% of all bacteria genome, but not in this one. Also accroding to Wikipedia, CRISPR system includes a bunch of genes including __Cas3, Cas9, Cas8abc, Cas13, Cse1&2, Csy1&2&3, Cpf1, Csf1__, etc. However, none of above gene is found.\n",
    "    \n",
    "5. Type IV pili can extend and retract by the cell which help bacteria to glide through a surface. Does this pili system exist in this bacteria?\n",
    "\n",
    "    Taken MCB 112, I have learnt at least 5 proteins involve in __type IV pili system__, which are __PilA, PilG, PilF, PilT and PilQ__. Among which PilA serves as the monomer of a pilus (known as pillin), PilF helps monomer assembly and PilT controls the extention and contraction of pili. PilQ is the position where PilA assembles and PilQ opens a pore on the outer membrane which allows pili to move. Here are the type IV related genes I found in this genome:\n",
    "    \n",
    "Name and Function | Cordinates\n",
    "--- | ---\n",
    "Twitching motility protein PilT | 218695..219729\n",
    "twitching motility protein PilG | 227592..227996\n",
    "Type IV pilus biogenesis protein PilF | 39844..40602\n",
    "Type IV pilin PilA | 77589..78011\n",
    "Type IV pilus biogenesis protein PilQ | 147463..149538\n",
    "\n",
    "It is at all not surprising to see these type IV pili protein exists in the genome, as pili is common among almost every kind of bacteria. However, some annotations interest me such as PilQ and PilG also play a role in pili synthesis."
   ]
  }
 ],
 "metadata": {
  "kernelspec": {
   "display_name": "Python 3",
   "language": "python",
   "name": "python3"
  },
  "language_info": {
   "codemirror_mode": {
    "name": "ipython",
    "version": 3
   },
   "file_extension": ".py",
   "mimetype": "text/x-python",
   "name": "python",
   "nbconvert_exporter": "python",
   "pygments_lexer": "ipython3",
   "version": "3.6.6"
  }
 },
 "nbformat": 4,
 "nbformat_minor": 2
}
