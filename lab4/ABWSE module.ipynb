{
 "cells": [
  {
   "cell_type": "markdown",
   "metadata": {},
   "source": [
    "# ABWSE (A Better Way to Search for an Enzyme)\n",
    "\n",
    "> Yujia Liu liuyujiaokok@126.com 09/17/2018\n",
    "\n",
    "Abwse is a easier to use API that does simple job: you give the **name** of the enzyme along with the host **organism**, the API would prompt you with the most likely matching gene, EC number, sequence, pathway, chromosome coordinate, etc. for the desired enzyme.\n",
    "\n",
    "The information are accessed through NCBI.\n",
    "\n",
    "This API is only used for **pattern organisms**, which are finely sequenced and annotated.\n",
    "\n",
    "*Notice*: If there are alternative splicing of the CDS, EC number will only return the first one, but translation would give a whole list.\n",
    "\n",
    "Take *E.coli* and the enzyme **Beta-galactosidase** as an example."
   ]
  },
  {
   "cell_type": "code",
   "execution_count": 3,
   "metadata": {
    "scrolled": true
   },
   "outputs": [
    {
     "name": "stdout",
     "output_type": "stream",
     "text": [
      "+----------------+-------+-----------------+----------------+------------------+\n",
      "|      name      | enzym |     species     |     start      |       end        |\n",
      "|                | e_nam |                 |                |                  |\n",
      "|                |   e   |                 |                |                  |\n",
      "+----------------+-------+-----------------+----------------+------------------+\n",
      "|      SIGE      | sigma | Arabidopsis tha |    8157151     |     8160343      |\n",
      "|                |  fact | liana (thale cr |                |                  |\n",
      "|                | or E  |      ess)       |                |                  |\n",
      "+----------------+-------+-----------------+----------------+------------------+\n",
      "|  description   | chrom |       EC        |     nt_seq     |     tran_seq     |\n",
      "|                | osome |                 |                |                  |\n",
      "+----------------+-------+-----------------+----------------+------------------+\n",
      "| Encodes a spec |   5   |      None       | TATAGGTTTTCTTC | 3 types; MGVVSIS |\n",
      "| ialized sigma  |       |                 | AGTATTCACCATGA | SSAARSPLGLGNDLLT |\n",
      "|     fa...      |       |                 |     CT...      |      HR...       |\n",
      "+----------------+-------+-----------------+----------------+------------------+\n",
      "+---------------+---------+------------------+---------------+-----------------+\n",
      "|     name      | enzyme_ |     species      |     start     |       end       |\n",
      "|               |  name   |                  |               |                 |\n",
      "+---------------+---------+------------------+---------------+-----------------+\n",
      "|     lacZ      | beta-D- | Escherichia coli |    363231     |     366305      |\n",
      "|               | galacto |  str. K-12 subst |               |                 |\n",
      "|               | sidase  |    r. MG1655     |               |                 |\n",
      "+---------------+---------+------------------+---------------+-----------------+\n",
      "|  description  | chromos |        EC        |    nt_seq     |    tran_seq     |\n",
      "|               |   ome   |                  |               |                 |\n",
      "+---------------+---------+------------------+---------------+-----------------+\n",
      "| enzyme; Degra |  None   |     3.2.1.23     | TTATTTTTGACAC | 1 types; MTMITD |\n",
      "| dation of sma |         |                  | CAGACCAACTGGT | SLAVVLQRRDWENPG |\n",
      "|    ll m...    |         |                  |    AATG...    |     VTQL...     |\n",
      "+---------------+---------+------------------+---------------+-----------------+\n",
      "+----------------+---------------+----------+----------------+------------------+\n",
      "|      name      |  enzyme_name  | species  |     start      |       end        |\n",
      "+----------------+---------------+----------+----------------+------------------+\n",
      "|     ACAT2      |  acetyl-CoA a | Homo sap |   159761957    |    159779112     |\n",
      "|                | cetyltransfer | iens (hu |                |                  |\n",
      "|                |     ase 2     |   man)   |                |                  |\n",
      "+----------------+---------------+----------+----------------+------------------+\n",
      "|  description   |  chromosome   |    EC    |     nt_seq     |     tran_seq     |\n",
      "+----------------+---------------+----------+----------------+------------------+\n",
      "| superoxide dis |       6       |   None   | GGTGCGCGGGGAGG | 4 types; MNAGSDP |\n",
      "| mutase 2; Deri |               |          | TGGAGGGCGAGGGG | VVIVSAARTIIGSFNG |\n",
      "|     ve...      |               |          |     CG...      |      AL...       |\n",
      "+----------------+---------------+----------+----------------+------------------+\n",
      "+-----------------+---------+-------------+-----------------+------------------+\n",
      "|      name       | enzyme_ |   species   |      start      |       end        |\n",
      "|                 |  name   |             |                 |                  |\n",
      "+-----------------+---------+-------------+-----------------+------------------+\n",
      "|       Cs        |  citrat | Mus musculu |    128337832    |    128362479     |\n",
      "|                 | e synth | s (house mo |                 |                  |\n",
      "|                 |   ase   |    use)     |                 |                  |\n",
      "+-----------------+---------+-------------+-----------------+------------------+\n",
      "|   description   | chromos |     EC      |     nt_seq      |     tran_seq     |\n",
      "|                 |   ome   |             |                 |                  |\n",
      "+-----------------+---------+-------------+-----------------+------------------+\n",
      "| citrate synthas |   10    |    None     | CTCCATCACAGCGGC | 1 types; MALLTAA |\n",
      "| e; Derived by a |         |             | GACCGCTCCTGTTGC | TRLLGAKNSSCLVLAA |\n",
      "|       ...       |         |             |       ...       |      RH...       |\n",
      "+-----------------+---------+-------------+-----------------+------------------+\n"
     ]
    }
   ],
   "source": [
    "from abwse import abwse\n",
    "\n",
    "enzyme_info = abwse.ezsearch('DNA polymerase sigma', 'Arabidopsis thaliana', 'rainl199922@berkeley.edu', rettype='dict')\n",
    "print(abwse.eztable(enzyme_info, 80))\n",
    "\n",
    "enzyme_info = abwse.ezsearch('Beta-galactosidase', 'Escherichia coli', 'rainl199922@berkeley.edu', rettype='dict')\n",
    "print(abwse.eztable(enzyme_info, 80))\n",
    "\n",
    "enzyme_info = abwse.ezsearch('Acetyl CoA transferase', 'Homo Sapiens', 'rainl199922@berkeley.edu', rettype='dict')\n",
    "print(abwse.eztable(enzyme_info, 80))\n",
    "\n",
    "enzyme_info = abwse.ezsearch('Citrate synthase', 'Mus musculus', 'rainl199922@berkeley.edu', rettype='dict')\n",
    "print(abwse.eztable(enzyme_info, 80))"
   ]
  },
  {
   "cell_type": "markdown",
   "metadata": {},
   "source": [
    "Core coding is listed as followed:\n",
    "\n",
    "```\n"
   ]
  }
 ],
 "metadata": {
  "kernelspec": {
   "display_name": "Python 3",
   "language": "python",
   "name": "python3"
  },
  "language_info": {
   "codemirror_mode": {
    "name": "ipython",
    "version": 3
   },
   "file_extension": ".py",
   "mimetype": "text/x-python",
   "name": "python",
   "nbconvert_exporter": "python",
   "pygments_lexer": "ipython3",
   "version": "3.6.6"
  }
 },
 "nbformat": 4,
 "nbformat_minor": 2
}
