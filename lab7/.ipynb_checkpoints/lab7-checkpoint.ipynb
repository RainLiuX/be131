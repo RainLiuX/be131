{
 "cells": [
  {
   "cell_type": "markdown",
   "metadata": {},
   "source": [
    "# Lab 7\n",
    "\n",
    "## Background\n",
    "\n",
    "In a biotech company that generates 1000 terabytes of data every day, the storage costs huge amount of money. My goal is to find a balance between time for compression and the compression rete, to determine the algorithm that compresses the maximum amount of data every day.\n",
    "\n",
    "## Simulating the data\n",
    "\n",
    "In this section, I will simulate 3 types of data: pure 0 or 1, nucleotide sequence, and protein sequence, in order to test how much each of them can be compressed by different algorithms.\n",
    "\n",
    "First, generate **100 megabytes** of 0/1 data"
   ]
  },
  {
   "cell_type": "code",
   "execution_count": 15,
   "metadata": {},
   "outputs": [],
   "source": [
    "import numpy as np\n",
    "\n",
    "# Generate 1024 long random 01\n",
    "myvar = np.random.choice([0, 1], size=1024, replace=True, p=[0.5, 0.5])\n",
    "#replace parameter controls whether there is repeated element in the list\n",
    "myvar = np.packbits(myvar)\n",
    "_ = open('zeros_100p', 'wb').write(myvar)"
   ]
  },
  {
   "cell_type": "code",
   "execution_count": 8,
   "metadata": {},
   "outputs": [],
   "source": [
    "# Generate 100 million long DNA\n",
    "mydna = np.random.choice(['A', 'T', 'C', 'G'], size=100000000,\\\n",
    "                        replace=True, p=[0.25, 0.25, 0.25, 0.25])\n",
    "_ = open('nt_seq', 'w').write(\"\".join(mydna))"
   ]
  }
 ],
 "metadata": {
  "kernelspec": {
   "display_name": "Python 3",
   "language": "python",
   "name": "python3"
  },
  "language_info": {
   "codemirror_mode": {
    "name": "ipython",
    "version": 3
   },
   "file_extension": ".py",
   "mimetype": "text/x-python",
   "name": "python",
   "nbconvert_exporter": "python",
   "pygments_lexer": "ipython3",
   "version": "3.6.6"
  }
 },
 "nbformat": 4,
 "nbformat_minor": 2
}
